{
 "cells": [
  {
   "cell_type": "code",
   "execution_count": 0,
   "metadata": {
    "application/vnd.databricks.v1+cell": {
     "cellMetadata": {
      "byteLimit": 2048000,
      "rowLimit": 10000
     },
     "inputWidgets": {},
     "nuid": "da7f461c-f282-4920-b4ee-4d52b0bc7408",
     "showTitle": true,
     "tableResultSettingsMap": {},
     "title": "hardcoded table_name"
    }
   },
   "outputs": [],
   "source": [
    "# # Define fully qualified table identifiers\n",
    "# catalog_name = \"dataroom_eval_bird\"\n",
    "# schema_name = \"california_schools\"\n",
    "# table_name = \"frpm\"\n",
    "\n",
    "# # Retrieve detailed table description (includes columns, data types, comments, etc.)\n",
    "# df_description = spark.sql(\n",
    "#     f\"DESCRIBE EXTENDED {catalog_name}.{schema_name}.{table_name}\"\n",
    "# )\n",
    "# # Display the metadata\n",
    "# display(df_description)"
   ]
  },
  {
   "cell_type": "code",
   "execution_count": 0,
   "metadata": {
    "application/vnd.databricks.v1+cell": {
     "cellMetadata": {
      "byteLimit": 2048000,
      "rowLimit": 10000
     },
     "inputWidgets": {},
     "nuid": "acd6ab19-8a57-4013-a83b-8de8868bbbf1",
     "showTitle": false,
     "tableResultSettingsMap": {},
     "title": ""
    }
   },
   "outputs": [],
   "source": [
    "import json\n",
    "import pandas as pd"
   ]
  },
  {
   "cell_type": "code",
   "execution_count": 0,
   "metadata": {
    "application/vnd.databricks.v1+cell": {
     "cellMetadata": {
      "byteLimit": 2048000,
      "rowLimit": 10000
     },
     "inputWidgets": {},
     "nuid": "de91f12c-1cbb-4425-95be-a5950d590771",
     "showTitle": false,
     "tableResultSettingsMap": {},
     "title": ""
    }
   },
   "outputs": [],
   "source": [
    "#: Databricks notebook widgets for parameterization\n",
    "# catalog/schema/table refers to source table.\n",
    "\n",
    "dbutils.widgets.text(\"catalog_name\", \"dataroom_eval_bird\")\n",
    "dbutils.widgets.text(\"schema_name\", \"california_schools\")\n",
    "dbutils.widgets.text(\"table_name\", \"frpm\")\n",
    "\n",
    "catalog_name = dbutils.widgets.get(\"catalog_name\")\n",
    "schema_name = dbutils.widgets.get(\"schema_name\")\n",
    "table_name = dbutils.widgets.get(\"table_name\")\n",
    "\n",
    "# Retrieve detailed table description (includes columns, data types, comments, etc.)\n",
    "df_description = spark.sql(\n",
    "    f\"DESCRIBE EXTENDED {catalog_name}.{schema_name}.{table_name}\"\n",
    ")\n",
    "# Display the metadata\n",
    "display(df_description)"
   ]
  },
  {
   "cell_type": "code",
   "execution_count": 0,
   "metadata": {
    "application/vnd.databricks.v1+cell": {
     "cellMetadata": {
      "byteLimit": 2048000,
      "rowLimit": 10000
     },
     "inputWidgets": {},
     "nuid": "29c03000-8c77-4577-b4da-f38b7b9f31ee",
     "showTitle": false,
     "tableResultSettingsMap": {},
     "title": ""
    }
   },
   "outputs": [],
   "source": [
    "# I dont need rows including col_name in ( '# Delta Statistics Columns', 'Column Names', 'Column Selection Method', 'Created Time', 'Last Access', 'Created By', 'Statistics', 'Type', 'Location', Provider, Owner, Is_managed_location, Predictive Optimization, Table Properties, NULL)\n",
    "\n",
    "# # Preview the DESCRIBE EXTENDED output (optional, for debugging)\n",
    "# display(df_description.limit(20))\n",
    "\n",
    "# Keep only rows where data_type is not null and col_name does not start with '#'\n",
    "from pyspark.sql.functions import col\n",
    "\n",
    "# Implement a robust filter for df_description to keep only real columns and you can also manually append the colnames you want to skip.\n",
    "df_description_clean = df_description.filter(\n",
    "    (col('data_type').isNotNull()) & (~col('col_name').startswith('#')) & (col('col_name') != '') & (~col('col_name').isin(\n",
    "    '# Delta Statistics Columns', 'Column Names', 'Column Selection Method', 'Created Time', 'Last Access', 'Created By', 'Statistics', 'Type', 'Location', 'Provider', 'Owner', 'Is_managed_location', 'Predictive Optimization', 'Table Properties')))\n",
    "\n",
    "display(df_description_clean)"
   ]
  },
  {
   "cell_type": "code",
   "execution_count": 0,
   "metadata": {
    "application/vnd.databricks.v1+cell": {
     "cellMetadata": {
      "byteLimit": 2048000,
      "rowLimit": 10000
     },
     "inputWidgets": {},
     "nuid": "a9617204-6514-4ccc-886e-917be730826b",
     "showTitle": false,
     "tableResultSettingsMap": {},
     "title": ""
    }
   },
   "outputs": [],
   "source": [
    "# 1. Collect column metadata\n",
    "columns = df_description_clean.select('col_name', 'data_type', 'comment').toPandas().to_dict('records')"
   ]
  },
  {
   "cell_type": "code",
   "execution_count": 0,
   "metadata": {
    "application/vnd.databricks.v1+cell": {
     "cellMetadata": {
      "byteLimit": 2048000,
      "rowLimit": 10000
     },
     "inputWidgets": {},
     "nuid": "d42edca8-c2ad-42b6-9e7c-87192137e5b7",
     "showTitle": false,
     "tableResultSettingsMap": {},
     "title": ""
    }
   },
   "outputs": [],
   "source": [
    "prompt = (\n",
    "    \"You will receive a list of columns in JSON: \"\n",
    "    + json.dumps(columns)\n",
    "    + \"\\n Use all these information to improve the 'comment' of a single entry, e.g., for {\\\"col_name\\\": \\\"CDSCode\\\", \\\"data_type\\\": \\\"string\\\", \\\"comment\\\": \\\"CDSCode\\\"}, improve the field {\\\"comment\\\": \\\"CDSCode\\\"} to be {\\\"comment\\\": \\\"A CDS (County-District-School) code is a unique 14-digit identification number assigned to each school within California by the California Department of Education (CDE) for tracking and administrative purposes related to funding, assessments, and grants. \\\"}. Return the JSON object with exactly the same format as before, just add another field 'updated_comment' for each entry's improved comment generated by you. Only return the JSON object in your answer. Dont add any explanations and thoughts.\"\n",
    ")"
   ]
  },
  {
   "cell_type": "code",
   "execution_count": 0,
   "metadata": {
    "application/vnd.databricks.v1+cell": {
     "cellMetadata": {
      "byteLimit": 2048000,
      "rowLimit": 10000
     },
     "inputWidgets": {},
     "nuid": "01400993-0caa-4184-8620-fc6f8b037da0",
     "showTitle": false,
     "tableResultSettingsMap": {},
     "title": ""
    }
   },
   "outputs": [],
   "source": [
    "prompt"
   ]
  },
  {
   "cell_type": "code",
   "execution_count": 0,
   "metadata": {
    "application/vnd.databricks.v1+cell": {
     "cellMetadata": {
      "byteLimit": 2048000,
      "rowLimit": 10000
     },
     "inputWidgets": {},
     "nuid": "3bbeb97f-abe0-41a5-95c7-b771364e222e",
     "showTitle": false,
     "tableResultSettingsMap": {},
     "title": ""
    }
   },
   "outputs": [],
   "source": [
    "llm_result = spark.sql(f\"SELECT ai_query('databricks-llama-4-maverick', ? ) as result\", [prompt]).collect()[0]['result']"
   ]
  },
  {
   "cell_type": "code",
   "execution_count": 0,
   "metadata": {
    "application/vnd.databricks.v1+cell": {
     "cellMetadata": {
      "byteLimit": 2048000,
      "rowLimit": 10000
     },
     "inputWidgets": {},
     "nuid": "ef177415-c311-4b27-94a6-1a81edfc3a99",
     "showTitle": false,
     "tableResultSettingsMap": {},
     "title": ""
    }
   },
   "outputs": [],
   "source": [
    "display(llm_result)"
   ]
  },
  {
   "cell_type": "code",
   "execution_count": 0,
   "metadata": {
    "application/vnd.databricks.v1+cell": {
     "cellMetadata": {
      "byteLimit": 2048000,
      "rowLimit": 10000
     },
     "inputWidgets": {},
     "nuid": "b52aee7e-74e1-478d-8563-a56a7906e1cb",
     "showTitle": false,
     "tableResultSettingsMap": {},
     "title": ""
    }
   },
   "outputs": [],
   "source": [
    "llm_result_str = llm_result.replace('```json', '').replace('```','') "
   ]
  },
  {
   "cell_type": "code",
   "execution_count": 0,
   "metadata": {
    "application/vnd.databricks.v1+cell": {
     "cellMetadata": {
      "byteLimit": 2048000,
      "rowLimit": 10000
     },
     "inputWidgets": {},
     "nuid": "b283d160-a3ae-4e5a-b02e-bb474abc63ac",
     "showTitle": false,
     "tableResultSettingsMap": {},
     "title": ""
    }
   },
   "outputs": [],
   "source": [
    "print(llm_result_str)"
   ]
  },
  {
   "cell_type": "code",
   "execution_count": 0,
   "metadata": {
    "application/vnd.databricks.v1+cell": {
     "cellMetadata": {
      "byteLimit": 2048000,
      "rowLimit": 10000
     },
     "inputWidgets": {},
     "nuid": "a6dfe2eb-a0bf-4985-8077-2eb4fe2add1d",
     "showTitle": false,
     "tableResultSettingsMap": {},
     "title": ""
    }
   },
   "outputs": [],
   "source": [
    "import json\n",
    "col2comment = json.loads(llm_result_str)"
   ]
  },
  {
   "cell_type": "code",
   "execution_count": 0,
   "metadata": {
    "application/vnd.databricks.v1+cell": {
     "cellMetadata": {
      "byteLimit": 2048000,
      "rowLimit": 10000
     },
     "inputWidgets": {},
     "nuid": "2ce81b71-8c1d-4a6b-aac6-786b30585d2f",
     "showTitle": false,
     "tableResultSettingsMap": {},
     "title": ""
    }
   },
   "outputs": [],
   "source": [
    "df_table_with_comment = spark.createDataFrame(col2comment)"
   ]
  },
  {
   "cell_type": "code",
   "execution_count": 0,
   "metadata": {
    "application/vnd.databricks.v1+cell": {
     "cellMetadata": {
      "byteLimit": 2048000,
      "rowLimit": 10000
     },
     "inputWidgets": {},
     "nuid": "70406d21-a5c4-4634-aad5-7479567423e4",
     "showTitle": false,
     "tableResultSettingsMap": {},
     "title": ""
    }
   },
   "outputs": [],
   "source": [
    "# TODO: parameterize destination_table_name\n",
    "destination_table_name = f\"yyang.hackathon_2025q3_project_geniepromptautocompletion_genieeng_feindustryhls.{table_name}_ai_comment\"\n",
    "df_table_with_comment.write.mode(\"overwrite\") \\\n",
    "                     .saveAsTable(destination_table_name)"
   ]
  }
 ],
 "metadata": {
  "application/vnd.databricks.v1+notebook": {
   "computePreferences": {
    "hardware": {
     "accelerator": null,
     "gpuPoolId": null,
     "memory": null
    }
   },
   "dashboards": [],
   "environmentMetadata": {
    "base_environment": "",
    "dependencies": [
     "dbutils"
    ],
    "environment_version": "4"
   },
   "inputWidgetPreferences": null,
   "language": "python",
   "notebookMetadata": {
    "pythonIndentUnit": 2
   },
   "notebookName": "01_Table_MetaInfo_Update",
   "widgets": {
    "catalog_name": {
     "currentValue": "dataroom_eval_bird",
     "nuid": "864a9473-c4d6-4786-bbce-1f138964ebba",
     "typedWidgetInfo": {
      "autoCreated": false,
      "defaultValue": "dataroom_eval_bird",
      "label": null,
      "name": "catalog_name",
      "options": {
       "widgetDisplayType": "Text",
       "validationRegex": null
      },
      "parameterDataType": "String"
     },
     "widgetInfo": {
      "widgetType": "text",
      "defaultValue": "dataroom_eval_bird",
      "label": null,
      "name": "catalog_name",
      "options": {
       "widgetType": "text",
       "autoCreated": null,
       "validationRegex": null
      }
     }
    },
    "schema_name": {
     "currentValue": "california_schools",
     "nuid": "a4b46078-6809-44ae-a3b5-06b3c9eac203",
     "typedWidgetInfo": {
      "autoCreated": false,
      "defaultValue": "california_schools",
      "label": null,
      "name": "schema_name",
      "options": {
       "widgetDisplayType": "Text",
       "validationRegex": null
      },
      "parameterDataType": "String"
     },
     "widgetInfo": {
      "widgetType": "text",
      "defaultValue": "california_schools",
      "label": null,
      "name": "schema_name",
      "options": {
       "widgetType": "text",
       "autoCreated": null,
       "validationRegex": null
      }
     }
    },
    "table_name": {
     "currentValue": "schools",
     "nuid": "f5a83872-fe47-402d-918c-90dcc2ec3b0e",
     "typedWidgetInfo": {
      "autoCreated": false,
      "defaultValue": "frpm",
      "label": null,
      "name": "table_name",
      "options": {
       "widgetDisplayType": "Text",
       "validationRegex": null
      },
      "parameterDataType": "String"
     },
     "widgetInfo": {
      "widgetType": "text",
      "defaultValue": "frpm",
      "label": null,
      "name": "table_name",
      "options": {
       "widgetType": "text",
       "autoCreated": null,
       "validationRegex": null
      }
     }
    }
   }
  },
  "language_info": {
   "name": "python"
  }
 },
 "nbformat": 4,
 "nbformat_minor": 0
}
